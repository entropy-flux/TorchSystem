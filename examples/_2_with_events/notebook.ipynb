{
 "cells": [
  {
   "cell_type": "code",
   "execution_count": 1,
   "metadata": {},
   "outputs": [],
   "source": [
    "import sys, os, dotenv\n",
    "sys.path.append(os.path.abspath(os.path.join(os.getcwd(), '..', '..')))"
   ]
  },
  {
   "cell_type": "code",
   "execution_count": 2,
   "metadata": {},
   "outputs": [],
   "source": [
    "from examples._2_with_events.aggregate import Settings, ClassifierSettings\n",
    "dotenv.load_dotenv()\n",
    "###\n",
    "### This is to show  you how a .env file can be used to set the settings\n",
    "###\n",
    "settings = Settings(aggregate=ClassifierSettings())\n",
    "assert settings.aggregate.device == 'cuda'"
   ]
  },
  {
   "cell_type": "code",
   "execution_count": 3,
   "metadata": {},
   "outputs": [],
   "source": [
    "from torch.optim import Adam\n",
    "from torch.nn import CrossEntropyLoss\n",
    "from torch.utils.data import DataLoader\n",
    "from examples._2_with_events.model import MLP\n",
    "from examples._2_with_events.dataset import Digits\n",
    "from examples._2_with_events.repository import Classifiers\n",
    "\n",
    "# OPTIONAL: Uses the mlregistry library to add a hash and metadata to the model\n",
    "# I'm gonna use this for storing data in the database\n",
    "classifiers = Classifiers(settings) \n",
    "classifiers.models.register(MLP) \n",
    "classifiers.criterions.register(CrossEntropyLoss)\n",
    "classifiers.optimizers.register(Adam)\n",
    "classifiers.datasets.register(Digits)"
   ]
  },
  {
   "cell_type": "code",
   "execution_count": 4,
   "metadata": {},
   "outputs": [],
   "source": [
    "model = MLP(28*28, 128, 10, p=0.5, activation='relu')\n",
    "criterion = CrossEntropyLoss()\n",
    "optimizer = Adam(model.parameters(), lr=0.001)\n",
    "loaders = [\n",
    "    ('train', DataLoader(Digits(train=True, normalize=True), batch_size=32, shuffle=True, num_workers=4, pin_memory=True, pin_memory_device='cuda')),\n",
    "    ('test', DataLoader(Digits(train=False, normalize=True), batch_size=32, shuffle=False, num_workers=4, pin_memory=True, pin_memory_device='cuda'))\n",
    "]"
   ]
  },
  {
   "cell_type": "code",
   "execution_count": 5,
   "metadata": {},
   "outputs": [],
   "source": [
    "from torchsystem import Compiler\n",
    "from torchsystem import Session\n",
    "from torchsystem.storage import get_metadata\n",
    "\n",
    "from examples._2_with_events.handlers import subscriber, consumer\n",
    "from examples._2_with_events.aggregate import Classifier\n",
    "\n",
    "from logging import getLogger\n",
    "from logging import basicConfig, INFO\n",
    "### An example of a complex compilation pipeline\n",
    "### Note that compiler.compile(classifier) can be used directly\n",
    "### But this is a way to show how to perform complex compilation steps\n",
    "### And how you can use it to build your aggregate\n",
    "\n",
    "compiler = Compiler[Classifier](settings)\n",
    "logger = getLogger(__name__) #If you don't know what this is, don't worry about it\n",
    "basicConfig(level=INFO)      #It's just a print\n",
    "\n",
    "@compiler.step\n",
    "def build_classifier(model, criterion, optimizer):\n",
    "    logger.info(\"Building classifier with:\")\n",
    "    logger.info(\"Model attributes:\")\n",
    "    logger.info(get_metadata(model))\n",
    "    logger.info(\"Criterion attributes:\")\n",
    "    logger.info(get_metadata(criterion))\n",
    "    logger.info(\"Optimizer attributes:\")\n",
    "    logger.info(get_metadata(optimizer))\n",
    "    return Classifier(model, criterion, optimizer, settings)\n",
    "\n",
    "@compiler.step\n",
    "def move_to_device(classifier: Classifier):\n",
    "    return classifier.to(classifier.device)\n",
    "\n",
    "@compiler.step\n",
    "def compile_classifier(classifier):\n",
    "    compiled = compiler.compile(classifier)\n",
    "    compiled.bind(subscriber, consumer)\n",
    "    logger.info(f\"Compiled classifier on device: {compiled.device}\")\n",
    "    return compiled"
   ]
  },
  {
   "cell_type": "code",
   "execution_count": 6,
   "metadata": {},
   "outputs": [
    {
     "name": "stderr",
     "output_type": "stream",
     "text": [
      "INFO:__main__:Building classifier with:\n",
      "INFO:__main__:Model attributes:\n",
      "INFO:__main__:Metadata(type='model', hash='8ebb966c654c0489e8c32d2ed4d0a688', name='MLP', arguments={'input_size': 784, 'hidden_size': 128, 'output_size': 10, 'p': 0.5, 'activation': 'relu'})\n",
      "INFO:__main__:Criterion attributes:\n",
      "INFO:__main__:Metadata(type='criterion', hash='422b735afaea4d9a688f99fbfa3c6de9', name='CrossEntropyLoss', arguments={})\n",
      "INFO:__main__:Optimizer attributes:\n",
      "INFO:__main__:Metadata(type='optimizer', hash='55b114a06ec82cec384573d24663dafe', name='Adam', arguments={'lr': 0.001})\n",
      "INFO:__main__:Compiled classifier on device: cuda\n",
      "INFO:examples._2_with_events.handlers:.:Batch: 200 loss: 1.064, accuracy: 0.648\n",
      "INFO:examples._2_with_events.handlers:.:Batch: 400 loss: 0.806, accuracy: 0.740\n",
      "INFO:examples._2_with_events.handlers:.:Batch: 600 loss: 0.694, accuracy: 0.781\n",
      "INFO:examples._2_with_events.handlers:.:Batch: 800 loss: 0.630, accuracy: 0.802\n",
      "INFO:examples._2_with_events.handlers:.:Batch: 1000 loss: 0.582, accuracy: 0.818\n",
      "INFO:examples._2_with_events.handlers:.:Batch: 1200 loss: 0.553, accuracy: 0.829\n",
      "INFO:examples._2_with_events.handlers:.:Batch: 1400 loss: 0.525, accuracy: 0.839\n",
      "INFO:examples._2_with_events.handlers:.:Batch: 1600 loss: 0.505, accuracy: 0.845\n",
      "INFO:examples._2_with_events.handlers:.:Batch: 1800 loss: 0.485, accuracy: 0.851\n",
      "INFO:examples._2_with_events.handlers:.:Result: loss: 0.481 phase train at epoch 0\n",
      "INFO:examples._2_with_events.handlers:.:Result: accuracy: 0.853 phase train at epoch 0\n",
      "INFO:examples._2_with_events.handlers:.:Batch: 200 loss: 0.217, accuracy: 0.933\n",
      "INFO:examples._2_with_events.handlers:.:Result: loss: 0.183 phase test at epoch 0\n",
      "INFO:examples._2_with_events.handlers:.:Result: accuracy: 0.945 phase test at epoch 0\n",
      "INFO:examples._2_with_events.handlers:Accuracy is greater than 0.9\n",
      "INFO:examples._2_with_events.handlers:Early stopping the training\n",
      "INFO:torchsystem.storage:Storing MLP in category model\n",
      "INFO:torchsystem.weights:Storing weights of MLP in model:8ebb966c654c0489e8c32d2ed4d0a688.pth\n",
      "INFO:torchsystem.weights:Weights stored successfully\n"
     ]
    }
   ],
   "source": [
    "from torchsystem.metrics import Callbacks, Metric\n",
    "from torchsystem.metrics.average import Loss, Accuracy\n",
    "\n",
    "classifier = compiler(model, criterion, optimizer)\n",
    "callbacks = Callbacks(Loss(), Accuracy())\n",
    "\n",
    "with Session(classifiers) as session:\n",
    "    session.on(StopIteration)(lambda: session.commit())\n",
    "    classifiers.put(classifier)\n",
    "    for epoch in range(5):\n",
    "        for phase, loader in loaders:\n",
    "            classifier.phase = phase\n",
    "            classifier.fit(loader, callbacks) if phase == 'train' else classifier.evaluate(loader, callbacks)\n",
    "            \n",
    "            for callback in callbacks:\n",
    "                classifier.deliver(Metric(callback.name, callback.average.value, phase, epoch), 'results')\n",
    "                callback.reset()"
   ]
  },
  {
   "cell_type": "code",
   "execution_count": 7,
   "metadata": {},
   "outputs": [
    {
     "name": "stdout",
     "output_type": "stream",
     "text": [
      "{'Classifier': [<function handle_stored at 0x7f16b6884fe0>, <function handle_restored at 0x7f16b6885580>]}\n"
     ]
    }
   ],
   "source": [
    "print(classifier.producer.consumers[0].handlers)"
   ]
  },
  {
   "cell_type": "code",
   "execution_count": null,
   "metadata": {},
   "outputs": [],
   "source": []
  }
 ],
 "metadata": {
  "kernelspec": {
   "display_name": "torch",
   "language": "python",
   "name": "python3"
  },
  "language_info": {
   "codemirror_mode": {
    "name": "ipython",
    "version": 3
   },
   "file_extension": ".py",
   "mimetype": "text/x-python",
   "name": "python",
   "nbconvert_exporter": "python",
   "pygments_lexer": "ipython3",
   "version": "3.12.8"
  }
 },
 "nbformat": 4,
 "nbformat_minor": 2
}
