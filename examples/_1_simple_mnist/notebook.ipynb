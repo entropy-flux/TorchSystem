{
 "cells": [
  {
   "cell_type": "code",
   "execution_count": 3,
   "metadata": {},
   "outputs": [],
   "source": [
    "# For making the example's imports work in this folder.\n",
    "#import sys, os\n",
    "#sys.path.append(os.path.abspath(os.path.join(os.getcwd(), '..', '..')))"
   ]
  },
  {
   "cell_type": "code",
   "execution_count": 4,
   "metadata": {},
   "outputs": [],
   "source": [
    "from torch.optim import Adam\n",
    "from torch.nn import CrossEntropyLoss\n",
    "from torch.utils.data import DataLoader\n",
    "from examples._1_simple_mnist.model import MLP\n",
    "from examples._1_simple_mnist.aggregate import Classifier, ClassifierSettings\n",
    "from examples._1_simple_mnist.repository import Classifiers\n",
    "from examples._1_simple_mnist.dataset import Digits\n",
    "from examples._1_simple_mnist.handlers import subscriber"
   ]
  },
  {
   "cell_type": "code",
   "execution_count": 5,
   "metadata": {},
   "outputs": [],
   "source": [
    "model = MLP(input_size=28*28, hidden_size=128, output_size=10, p=0.5)\n",
    "criterion = CrossEntropyLoss()\n",
    "optimizer = Adam(model.parameters(), lr=0.001)\n",
    "dataloaders = [\n",
    "    ('train', DataLoader(Digits(train=True, normalize=True), batch_size=32, shuffle=True)),\n",
    "    ('test', DataLoader(Digits(train=False, normalize=True), batch_size=32, shuffle=False))\n",
    "]"
   ]
  },
  {
   "cell_type": "code",
   "execution_count": 6,
   "metadata": {},
   "outputs": [],
   "source": [
    "from torchsystem import Callbacks\n",
    "from torchsystem.metrics.average import Accuracy, Loss\n",
    "\n",
    "settings = ClassifierSettings()\n",
    "classifier = Classifier(model, criterion, optimizer, settings)\n",
    "classifier.bind(subscriber)\n",
    "repository = Classifiers()\n",
    "callbacks = Callbacks(Loss(), Accuracy())"
   ]
  },
  {
   "cell_type": "code",
   "execution_count": 7,
   "metadata": {},
   "outputs": [
    {
     "name": "stdout",
     "output_type": "stream",
     "text": [
      "Batch: 300, Metric: loss, Value: 0.9219042062759399, Phase: train\n",
      "Batch: 300, Metric: accuracy, Value: 0.6980208333333338, Phase: train\n",
      "Batch: 600, Metric: loss, Value: 0.7127916216850281, Phase: train\n",
      "Batch: 600, Metric: accuracy, Value: 0.7699479166666672, Phase: train\n",
      "Batch: 900, Metric: loss, Value: 0.6215074062347412, Phase: train\n",
      "Batch: 900, Metric: accuracy, Value: 0.8027083333333336, Phase: train\n",
      "Batch: 1200, Metric: loss, Value: 0.563820481300354, Phase: train\n",
      "Batch: 1200, Metric: accuracy, Value: 0.8233593750000003, Phase: train\n",
      "Batch: 1500, Metric: loss, Value: 0.5233115553855896, Phase: train\n",
      "Batch: 1500, Metric: accuracy, Value: 0.837291666666667, Phase: train\n",
      "Batch: 1800, Metric: loss, Value: 0.4930669069290161, Phase: train\n",
      "Batch: 1800, Metric: accuracy, Value: 0.8477604166666669, Phase: train\n",
      "Results {'epoch': 0, 'phase': 'train', 'metric': 'loss', 'average': tensor(0.4876, grad_fn=<DivBackward0>)}\n",
      "Results {'epoch': 0, 'phase': 'train', 'metric': 'accuracy', 'average': 0.8495500000000002}\n",
      "Batch: 300, Metric: loss, Value: 0.1816568374633789, Phase: evaluation\n",
      "Batch: 300, Metric: accuracy, Value: 0.9454166666666667, Phase: evaluation\n",
      "Results {'epoch': 0, 'phase': 'test', 'metric': 'loss', 'average': tensor(0.1868)}\n",
      "Results {'epoch': 0, 'phase': 'test', 'metric': 'accuracy', 'average': 0.9433905750798722}\n",
      "Batch: 300, Metric: loss, Value: 0.3066774606704712, Phase: train\n",
      "Batch: 300, Metric: accuracy, Value: 0.9097916666666667, Phase: train\n",
      "Batch: 600, Metric: loss, Value: 0.30436381697654724, Phase: train\n",
      "Batch: 600, Metric: accuracy, Value: 0.9108854166666664, Phase: train\n",
      "Batch: 900, Metric: loss, Value: 0.30513304471969604, Phase: train\n",
      "Batch: 900, Metric: accuracy, Value: 0.9101041666666665, Phase: train\n",
      "Batch: 1200, Metric: loss, Value: 0.30754560232162476, Phase: train\n",
      "Batch: 1200, Metric: accuracy, Value: 0.9102604166666667, Phase: train\n",
      "Batch: 1500, Metric: loss, Value: 0.30740371346473694, Phase: train\n",
      "Batch: 1500, Metric: accuracy, Value: 0.9107916666666667, Phase: train\n",
      "Batch: 1800, Metric: loss, Value: 0.303401380777359, Phase: train\n",
      "Batch: 1800, Metric: accuracy, Value: 0.9112847222222222, Phase: train\n",
      "Results {'epoch': 1, 'phase': 'train', 'metric': 'loss', 'average': tensor(0.3049, grad_fn=<DivBackward0>)}\n",
      "Results {'epoch': 1, 'phase': 'train', 'metric': 'accuracy', 'average': 0.9108833333333334}\n",
      "Batch: 300, Metric: loss, Value: 0.14891202747821808, Phase: evaluation\n",
      "Batch: 300, Metric: accuracy, Value: 0.9567708333333333, Phase: evaluation\n",
      "Results {'epoch': 1, 'phase': 'test', 'metric': 'loss', 'average': tensor(0.1531)}\n",
      "Results {'epoch': 1, 'phase': 'test', 'metric': 'accuracy', 'average': 0.9548722044728435}\n",
      "End of training-----------------\n"
     ]
    }
   ],
   "source": [
    "for epoch in range(2):\n",
    "    for phase, loader in dataloaders:\n",
    "        classifier.phase = phase\n",
    "        classifier.fit(loader, callbacks) if phase == 'train' else classifier.evaluate(loader, callbacks)\n",
    "        for callback in callbacks:\n",
    "            classifier.publish({'epoch': epoch, 'phase': phase, 'metric': callback.name, 'average': callback.average.value}, topic='results')\n",
    "            callback.reset()\n",
    "repository.store(classifier)\n",
    "classifier.publish('End of training-----------------', topic='end')"
   ]
  }
 ],
 "metadata": {
  "kernelspec": {
   "display_name": "torch",
   "language": "python",
   "name": "python3"
  },
  "language_info": {
   "codemirror_mode": {
    "name": "ipython",
    "version": 3
   },
   "file_extension": ".py",
   "mimetype": "text/x-python",
   "name": "python",
   "nbconvert_exporter": "python",
   "pygments_lexer": "ipython3",
   "version": "3.12.8"
  }
 },
 "nbformat": 4,
 "nbformat_minor": 2
}
