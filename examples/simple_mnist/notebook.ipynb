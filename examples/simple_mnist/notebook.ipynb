{
 "cells": [
  {
   "cell_type": "code",
   "execution_count": 1,
   "metadata": {},
   "outputs": [],
   "source": [
    "# For making the example's imports work in this folder.\n",
    "#import sys, os\n",
    "#sys.path.append(os.path.abspath(os.path.join(os.getcwd(), '..', '..')))"
   ]
  },
  {
   "cell_type": "code",
   "execution_count": 2,
   "metadata": {},
   "outputs": [],
   "source": [
    "from torch.optim import Adam\n",
    "from torch.nn import CrossEntropyLoss\n",
    "from torch.utils.data import DataLoader\n",
    "from examples.simple_mnist.model import MLP\n",
    "from examples.simple_mnist.aggregate import Classifier, ClassifierSettings\n",
    "from examples.simple_mnist.repository import Classifiers\n",
    "from examples.simple_mnist.dataset import Digits\n",
    "from examples.simple_mnist.handlers import subscriber"
   ]
  },
  {
   "cell_type": "code",
   "execution_count": 3,
   "metadata": {},
   "outputs": [],
   "source": [
    "model = MLP(input_size=28*28, hidden_size=128, output_size=10, p=0.5)\n",
    "criterion = CrossEntropyLoss()\n",
    "optimizer = Adam(model.parameters(), lr=0.001)\n",
    "dataloaders = [\n",
    "    ('train', DataLoader(Digits(train=True, normalize=True), batch_size=32, shuffle=True)),\n",
    "    ('test', DataLoader(Digits(train=False, normalize=True), batch_size=32, shuffle=False))\n",
    "]"
   ]
  },
  {
   "cell_type": "code",
   "execution_count": 4,
   "metadata": {},
   "outputs": [],
   "source": [
    "from torchsystem import Callbacks\n",
    "from torchsystem.metrics.average import Accuracy, Loss\n",
    "\n",
    "settings = ClassifierSettings()\n",
    "classifier = Classifier(model, criterion, optimizer, settings)\n",
    "classifier.bind(subscriber)\n",
    "repository = Classifiers()\n",
    "callbacks = Callbacks(Loss(), Accuracy())"
   ]
  },
  {
   "cell_type": "code",
   "execution_count": 5,
   "metadata": {},
   "outputs": [
    {
     "name": "stdout",
     "output_type": "stream",
     "text": [
      "Batch: 300, Metric: loss, Value: 0.9124188423156738, Phase: train\n",
      "Batch: 300, Metric: accuracy, Value: 0.7006250000000006, Phase: train\n",
      "Batch: 600, Metric: loss, Value: 0.7068272829055786, Phase: train\n",
      "Batch: 600, Metric: accuracy, Value: 0.7719270833333334, Phase: train\n",
      "Batch: 900, Metric: loss, Value: 0.6119914650917053, Phase: train\n",
      "Batch: 900, Metric: accuracy, Value: 0.8058333333333332, Phase: train\n",
      "Batch: 1200, Metric: loss, Value: 0.5578536987304688, Phase: train\n",
      "Batch: 1200, Metric: accuracy, Value: 0.8249739583333335, Phase: train\n",
      "Batch: 1500, Metric: loss, Value: 0.5249641537666321, Phase: train\n",
      "Batch: 1500, Metric: accuracy, Value: 0.8363958333333333, Phase: train\n",
      "Batch: 1800, Metric: loss, Value: 0.4936557412147522, Phase: train\n",
      "Batch: 1800, Metric: accuracy, Value: 0.8469791666666666, Phase: train\n",
      "Results {'epoch': 0, 'phase': 'train', 'metric': 'loss', 'average': tensor(0.4869, grad_fn=<DivBackward0>)}\n",
      "Results {'epoch': 0, 'phase': 'train', 'metric': 'accuracy', 'average': 0.8492166666666666}\n",
      "Batch: 300, Metric: loss, Value: 0.175212100148201, Phase: evaluation\n",
      "Batch: 300, Metric: accuracy, Value: 0.9459375, Phase: evaluation\n",
      "Results {'epoch': 0, 'phase': 'test', 'metric': 'loss', 'average': tensor(0.1815)}\n",
      "Results {'epoch': 0, 'phase': 'test', 'metric': 'accuracy', 'average': 0.9440894568690096}\n",
      "Batch: 300, Metric: loss, Value: 0.3044799864292145, Phase: train\n",
      "Batch: 300, Metric: accuracy, Value: 0.9063541666666667, Phase: train\n",
      "Batch: 600, Metric: loss, Value: 0.31344908475875854, Phase: train\n",
      "Batch: 600, Metric: accuracy, Value: 0.9088020833333336, Phase: train\n",
      "Batch: 900, Metric: loss, Value: 0.31508463621139526, Phase: train\n",
      "Batch: 900, Metric: accuracy, Value: 0.908888888888889, Phase: train\n",
      "Batch: 1200, Metric: loss, Value: 0.312362402677536, Phase: train\n",
      "Batch: 1200, Metric: accuracy, Value: 0.9088802083333334, Phase: train\n",
      "Batch: 1500, Metric: loss, Value: 0.30949366092681885, Phase: train\n",
      "Batch: 1500, Metric: accuracy, Value: 0.9094583333333334, Phase: train\n",
      "Batch: 1800, Metric: loss, Value: 0.30699974298477173, Phase: train\n",
      "Batch: 1800, Metric: accuracy, Value: 0.9100694444444445, Phase: train\n",
      "Results {'epoch': 1, 'phase': 'train', 'metric': 'loss', 'average': tensor(0.3063, grad_fn=<DivBackward0>)}\n",
      "Results {'epoch': 1, 'phase': 'train', 'metric': 'accuracy', 'average': 0.9104333333333333}\n",
      "Batch: 300, Metric: loss, Value: 0.13439017534255981, Phase: evaluation\n",
      "Batch: 300, Metric: accuracy, Value: 0.9575, Phase: evaluation\n",
      "Results {'epoch': 1, 'phase': 'test', 'metric': 'loss', 'average': tensor(0.1396)}\n",
      "Results {'epoch': 1, 'phase': 'test', 'metric': 'accuracy', 'average': 0.955970447284345}\n",
      "End of training-----------------\n"
     ]
    }
   ],
   "source": [
    "for epoch in range(2):\n",
    "    for phase, loader in dataloaders:\n",
    "        classifier.phase = phase\n",
    "        classifier.fit(loader, callbacks) if phase == 'train' else classifier.evaluate(loader, callbacks)\n",
    "        for callback in callbacks:\n",
    "            classifier.publish({'epoch': epoch, 'phase': phase, 'metric': callback.name, 'average': callback.average.value}, topic='results')\n",
    "            callback.reset()\n",
    "repository.store(classifier)\n",
    "classifier.publish('End of training-----------------', topic='end')"
   ]
  }
 ],
 "metadata": {
  "kernelspec": {
   "display_name": "torch",
   "language": "python",
   "name": "python3"
  },
  "language_info": {
   "codemirror_mode": {
    "name": "ipython",
    "version": 3
   },
   "file_extension": ".py",
   "mimetype": "text/x-python",
   "name": "python",
   "nbconvert_exporter": "python",
   "pygments_lexer": "ipython3",
   "version": "3.12.8"
  }
 },
 "nbformat": 4,
 "nbformat_minor": 2
}
